{
 "cells": [
  {
   "cell_type": "markdown",
   "id": "ea9a6e80",
   "metadata": {},
   "source": [
    "## Operators\n"
   ]
  },
  {
   "cell_type": "code",
   "execution_count": 1,
   "id": "c90f0ae2",
   "metadata": {},
   "outputs": [
    {
     "name": "stdout",
     "output_type": "stream",
     "text": [
      "15\n",
      "5\n",
      "50\n",
      "2.0\n",
      "2\n",
      "0\n",
      "100000\n"
     ]
    }
   ],
   "source": [
    "# Arithmetic operators\n",
    "a=10\n",
    "b=5\n",
    "\n",
    "#addition\n",
    "add=a+b\n",
    "print(add)\n",
    "\n",
    "#subtraction\n",
    "sub=a-b\n",
    "print(sub)\n",
    "\n",
    "#multiplication \n",
    "mul=a*b\n",
    "print(mul)\n",
    "\n",
    "#Division\n",
    "div=a/b\n",
    "print(div)\n",
    "\n",
    "# floor division\n",
    "f_div=a//b\n",
    "print(f_div)\n",
    "\n",
    "#modulus\n",
    "mod=a%b\n",
    "print(mod)\n",
    "\n",
    "#Exponentiation\n",
    "exp=a**b\n",
    "print(exp)"
   ]
  },
  {
   "cell_type": "markdown",
   "id": "67a242b7",
   "metadata": {},
   "source": [
    "## Comparision Operators"
   ]
  },
  {
   "cell_type": "code",
   "execution_count": null,
   "id": "429e7fb9",
   "metadata": {},
   "outputs": [
    {
     "name": "stdout",
     "output_type": "stream",
     "text": [
      "False\n",
      "True\n",
      "True\n",
      "True\n",
      "False\n",
      "\n"
     ]
    }
   ],
   "source": [
    "# equal to \n",
    "a=10\n",
    "b=5\n",
    "print(a==b)\n",
    "\n",
    "\n",
    "#not equal\n",
    "print(a!=b)\n",
    "\n",
    "#greater than \n",
    "print(a>b)\n",
    "\n",
    "#greater than or equal to \n",
    "print(a>=b)\n",
    "\n",
    "# less than\n",
    "print(a<b)\n",
    "\n",
    "# less than or equal to\n",
    "print(a<=b)\n",
    "\n"
   ]
  },
  {
   "cell_type": "markdown",
   "id": "30200810",
   "metadata": {},
   "source": [
    "## Logical operators\n",
    "\n"
   ]
  },
  {
   "cell_type": "code",
   "execution_count": 10,
   "id": "ff7e4834",
   "metadata": {},
   "outputs": [
    {
     "name": "stdout",
     "output_type": "stream",
     "text": [
      "False\n",
      "True\n",
      "False\n"
     ]
    }
   ],
   "source": [
    "X=True\n",
    "Y=False\n",
    "\n",
    "#  AND\n",
    "result= X and Y\n",
    "print(result)\n",
    "\n",
    "#or \n",
    "\n",
    "z=X or Y\n",
    "print(z)\n",
    "\n",
    "# not\n",
    "s=not X\n",
    "print(s)\n"
   ]
  },
  {
   "cell_type": "code",
   "execution_count": null,
   "id": "358456f4",
   "metadata": {},
   "outputs": [],
   "source": []
  }
 ],
 "metadata": {
  "kernelspec": {
   "display_name": "base",
   "language": "python",
   "name": "python3"
  },
  "language_info": {
   "codemirror_mode": {
    "name": "ipython",
    "version": 3
   },
   "file_extension": ".py",
   "mimetype": "text/x-python",
   "name": "python",
   "nbconvert_exporter": "python",
   "pygments_lexer": "ipython3",
   "version": "3.9.13"
  }
 },
 "nbformat": 4,
 "nbformat_minor": 5
}
