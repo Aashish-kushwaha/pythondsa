{
 "cells": [
  {
   "cell_type": "markdown",
   "id": "b02a0928",
   "metadata": {},
   "source": [
    "## variables\n",
    "variables are fundamentals elements in a progrmmming used to store data that can be referenced and manipulated in a program ."
   ]
  },
  {
   "cell_type": "code",
   "execution_count": 2,
   "id": "d1e32375",
   "metadata": {},
   "outputs": [
    {
     "name": "stdout",
     "output_type": "stream",
     "text": [
      "age: 12\n",
      "height: 1.3\n",
      "name: djfj\n"
     ]
    }
   ],
   "source": [
    "# declaring and assigning variables\n",
    "age=12\n",
    "height=1.3\n",
    "nam=\"djfj\"\n",
    "is_male=True\n",
    "\n",
    "# printing variables\n",
    "print(\"age:\",age)\n",
    "print(\"height:\", height)\n",
    "print(\"name:\",nam)"
   ]
  },
  {
   "cell_type": "code",
   "execution_count": 3,
   "id": "bfdf38ad",
   "metadata": {},
   "outputs": [],
   "source": [
    "# naming convetion\n",
    "# variable name should be descriptive\n",
    "# they must start with a letter or an '_' and contains letter, numbers\n",
    "# variables name case sensitive\n",
    "\n",
    "first_name=\"robert\"\n",
    "middle_name=\"downey\"\n",
    "last_name=\"junior\""
   ]
  },
  {
   "cell_type": "code",
   "execution_count": 7,
   "id": "a6303060",
   "metadata": {},
   "outputs": [
    {
     "name": "stdout",
     "output_type": "stream",
     "text": [
      "False\n"
     ]
    }
   ],
   "source": [
    "# case sensitivity\n",
    "Name=\"robert\"\n",
    "name=\"banner\"\n",
    "\n",
    "print(name==Name)"
   ]
  },
  {
   "cell_type": "code",
   "execution_count": null,
   "id": "766c53b3",
   "metadata": {},
   "outputs": [],
   "source": []
  }
 ],
 "metadata": {
  "kernelspec": {
   "display_name": "base",
   "language": "python",
   "name": "python3"
  },
  "language_info": {
   "codemirror_mode": {
    "name": "ipython",
    "version": 3
   },
   "file_extension": ".py",
   "mimetype": "text/x-python",
   "name": "python",
   "nbconvert_exporter": "python",
   "pygments_lexer": "ipython3",
   "version": "3.9.13"
  }
 },
 "nbformat": 4,
 "nbformat_minor": 5
}
