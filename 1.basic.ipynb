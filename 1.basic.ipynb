{
 "cells": [
  {
   "cell_type": "markdown",
   "id": "5c6429ad",
   "metadata": {},
   "source": [
    "## syntax\n",
    "syntax refers to the set of rules that defines the combinations of symbols that are considered to be correctly structures in a language. in simple words, syntax is the the correct arrangements of words and symbols in a code.\n",
    "\n",
    "\n",
    "## semantics\n",
    "semantics refers to the meaning or the interpetion of the symbols, characters and commands in a language"
   ]
  },
  {
   "cell_type": "markdown",
   "id": "234fadcc",
   "metadata": {},
   "source": [
    "## indentation\n",
    "indentation in python is used to define the structure and hierarchy of the code. python uses indentation to determine the grouping of statements."
   ]
  },
  {
   "cell_type": "code",
   "execution_count": 1,
   "id": "249ab924",
   "metadata": {},
   "outputs": [
    {
     "name": "stdout",
     "output_type": "stream",
     "text": [
      "hello world\n"
     ]
    }
   ],
   "source": [
    "## single line comment\n",
    "print(\"hello world\")"
   ]
  },
  {
   "cell_type": "code",
   "execution_count": 4,
   "id": "5fad38a7",
   "metadata": {},
   "outputs": [
    {
     "name": "stdout",
     "output_type": "stream",
     "text": [
      "45\n"
     ]
    }
   ],
   "source": [
    "# line continuation using backslash(\\)\n",
    "total=1+2+3+4+5\\\n",
    "+6+7+8+9\n",
    "print(total)"
   ]
  },
  {
   "cell_type": "code",
   "execution_count": 5,
   "id": "2eae3382",
   "metadata": {},
   "outputs": [
    {
     "name": "stdout",
     "output_type": "stream",
     "text": [
      "11\n"
     ]
    }
   ],
   "source": [
    "# multiple statement in  a single line\n",
    "a=5;b=6;c=a+b\n",
    "print(c)"
   ]
  },
  {
   "cell_type": "code",
   "execution_count": null,
   "id": "0260a684",
   "metadata": {},
   "outputs": [],
   "source": []
  }
 ],
 "metadata": {
  "kernelspec": {
   "display_name": "base",
   "language": "python",
   "name": "python3"
  },
  "language_info": {
   "codemirror_mode": {
    "name": "ipython",
    "version": 3
   },
   "file_extension": ".py",
   "mimetype": "text/x-python",
   "name": "python",
   "nbconvert_exporter": "python",
   "pygments_lexer": "ipython3",
   "version": "3.9.13"
  }
 },
 "nbformat": 4,
 "nbformat_minor": 5
}
