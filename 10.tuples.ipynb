{
 "cells": [
  {
   "cell_type": "markdown",
   "id": "b87534cb",
   "metadata": {},
   "source": [
    "## tuples\n",
    " tuples are the ordered collections of items that are immutable . they ae similar to lits, but thei immutability makes them different\n",
    " "
   ]
  },
  {
   "cell_type": "code",
   "execution_count": 1,
   "id": "42a28b04",
   "metadata": {},
   "outputs": [
    {
     "name": "stdout",
     "output_type": "stream",
     "text": [
      "<class 'tuple'>\n"
     ]
    }
   ],
   "source": [
    "# empty tuples\n",
    "empty_tuple=()\n",
    "print(type(empty_tuple))"
   ]
  },
  {
   "cell_type": "code",
   "execution_count": 2,
   "id": "8a64c7a7",
   "metadata": {},
   "outputs": [
    {
     "name": "stdout",
     "output_type": "stream",
     "text": [
      "<class 'list'>\n"
     ]
    }
   ],
   "source": [
    "lst=list()\n",
    "print(type(lst))"
   ]
  },
  {
   "cell_type": "code",
   "execution_count": 3,
   "id": "087ae091",
   "metadata": {},
   "outputs": [
    {
     "name": "stdout",
     "output_type": "stream",
     "text": [
      "<class 'tuple'>\n"
     ]
    }
   ],
   "source": [
    "tp=tuple()\n",
    "print(type(tp))"
   ]
  },
  {
   "cell_type": "code",
   "execution_count": 5,
   "id": "caaed590",
   "metadata": {},
   "outputs": [
    {
     "data": {
      "text/plain": [
       "(1, 2, 3, 45)"
      ]
     },
     "execution_count": 5,
     "metadata": {},
     "output_type": "execute_result"
    }
   ],
   "source": [
    "number=tuple([1,2,3,45])\n",
    "number"
   ]
  },
  {
   "cell_type": "code",
   "execution_count": 6,
   "id": "76d34eb9",
   "metadata": {},
   "outputs": [
    {
     "data": {
      "text/plain": [
       "(1, 'sjf', 2.3, True)"
      ]
     },
     "execution_count": 6,
     "metadata": {},
     "output_type": "execute_result"
    }
   ],
   "source": [
    "tp=(1,\"sjf\",2.3,True)\n",
    "tp"
   ]
  },
  {
   "cell_type": "code",
   "execution_count": 7,
   "id": "9f33a7f3",
   "metadata": {},
   "outputs": [
    {
     "data": {
      "text/plain": [
       "3"
      ]
     },
     "execution_count": 7,
     "metadata": {},
     "output_type": "execute_result"
    }
   ],
   "source": [
    "# accessing tuple \n",
    "numer=(1,2,3,4,5)\n",
    "numer[2]"
   ]
  },
  {
   "cell_type": "code",
   "execution_count": 8,
   "id": "0e2a1b9e",
   "metadata": {},
   "outputs": [
    {
     "name": "stdout",
     "output_type": "stream",
     "text": [
      "1\n"
     ]
    }
   ],
   "source": [
    "print(numer[0])"
   ]
  },
  {
   "cell_type": "markdown",
   "id": "6799150f",
   "metadata": {},
   "source": [
    "## indexing and slicing is similar to list"
   ]
  },
  {
   "cell_type": "code",
   "execution_count": 10,
   "id": "e48c74a1",
   "metadata": {},
   "outputs": [],
   "source": [
    "# tuple operations\n",
    "# concattaion\n",
    "\n",
    "conc=numer+tp"
   ]
  },
  {
   "cell_type": "code",
   "execution_count": 11,
   "id": "5da3fe7b",
   "metadata": {},
   "outputs": [
    {
     "data": {
      "text/plain": [
       "(1, 2, 3, 4, 5, 1, 'sjf', 2.3, True)"
      ]
     },
     "execution_count": 11,
     "metadata": {},
     "output_type": "execute_result"
    }
   ],
   "source": [
    "conc"
   ]
  },
  {
   "cell_type": "code",
   "execution_count": 12,
   "id": "24a35206",
   "metadata": {},
   "outputs": [
    {
     "data": {
      "text/plain": [
       "(1, 'sjf', 2.3, True, 1, 'sjf', 2.3, True, 1, 'sjf', 2.3, True)"
      ]
     },
     "execution_count": 12,
     "metadata": {},
     "output_type": "execute_result"
    }
   ],
   "source": [
    "tp*3"
   ]
  },
  {
   "cell_type": "code",
   "execution_count": 13,
   "id": "0cbdf377",
   "metadata": {},
   "outputs": [
    {
     "data": {
      "text/plain": [
       "(1, 2, 3, 4, 5, 1, 2, 3, 4, 5, 1, 2, 3, 4, 5)"
      ]
     },
     "execution_count": 13,
     "metadata": {},
     "output_type": "execute_result"
    }
   ],
   "source": [
    "numer*3"
   ]
  },
  {
   "cell_type": "code",
   "execution_count": 18,
   "id": "9c476dcd",
   "metadata": {},
   "outputs": [
    {
     "name": "stdout",
     "output_type": "stream",
     "text": [
      "(1, 2, 3, 'ashu')\n",
      "(1, 2, 3, 'ashu')\n"
     ]
    }
   ],
   "source": [
    "# immutablke nature of tuples\n",
    "tp1=(1,2,3,\"ashu\")\n",
    "tp2=tp1\n",
    "print(tp1)\n",
    "print(tp2)\n"
   ]
  },
  {
   "cell_type": "code",
   "execution_count": 19,
   "id": "77f0f8e3",
   "metadata": {},
   "outputs": [
    {
     "ename": "TypeError",
     "evalue": "'tuple' object does not support item assignment",
     "output_type": "error",
     "traceback": [
      "\u001b[1;31m---------------------------------------------------------------------------\u001b[0m",
      "\u001b[1;31mTypeError\u001b[0m                                 Traceback (most recent call last)",
      "\u001b[1;32m~\\AppData\\Local\\Temp\\ipykernel_11360\\3993589191.py\u001b[0m in \u001b[0;36m<module>\u001b[1;34m\u001b[0m\n\u001b[1;32m----> 1\u001b[1;33m \u001b[0mtp1\u001b[0m\u001b[1;33m[\u001b[0m\u001b[1;36m0\u001b[0m\u001b[1;33m]\u001b[0m\u001b[1;33m=\u001b[0m\u001b[1;36m3\u001b[0m\u001b[1;33m\u001b[0m\u001b[1;33m\u001b[0m\u001b[0m\n\u001b[0m",
      "\u001b[1;31mTypeError\u001b[0m: 'tuple' object does not support item assignment"
     ]
    }
   ],
   "source": [
    "tp1[0]=3"
   ]
  },
  {
   "cell_type": "code",
   "execution_count": 20,
   "id": "ae0dfc09",
   "metadata": {},
   "outputs": [
    {
     "data": {
      "text/plain": [
       "(1, 2, 3, 'ashu')"
      ]
     },
     "execution_count": 20,
     "metadata": {},
     "output_type": "execute_result"
    }
   ],
   "source": [
    "tp1"
   ]
  },
  {
   "cell_type": "code",
   "execution_count": 21,
   "id": "10fe18c3",
   "metadata": {},
   "outputs": [
    {
     "name": "stdout",
     "output_type": "stream",
     "text": [
      "1\n",
      "3\n"
     ]
    }
   ],
   "source": [
    "# methods in tuples\n",
    "print(tp1.count(1))\n",
    "print(tp1.index(\"ashu\"))"
   ]
  },
  {
   "cell_type": "code",
   "execution_count": 22,
   "id": "a1a0f65a",
   "metadata": {},
   "outputs": [
    {
     "name": "stdout",
     "output_type": "stream",
     "text": [
      "(1, 2, 'ashu', 2.3)\n"
     ]
    }
   ],
   "source": [
    "# packing and unpacking tuple\n",
    "# packing a tuple\n",
    "packed_tuple=1,2,\"ashu\",2.3\n",
    "print(packed_tuple)"
   ]
  },
  {
   "cell_type": "code",
   "execution_count": 23,
   "id": "2dce6286",
   "metadata": {},
   "outputs": [
    {
     "name": "stdout",
     "output_type": "stream",
     "text": [
      "1\n",
      "2\n",
      "ashu\n",
      "2.3\n"
     ]
    }
   ],
   "source": [
    "# unpacking the tuple\n",
    "a,b,c,d=packed_tuple\n",
    "print(a)\n",
    "print(b)\n",
    "print(c)\n",
    "print(d)"
   ]
  },
  {
   "cell_type": "code",
   "execution_count": 24,
   "id": "cd7dc0cb",
   "metadata": {},
   "outputs": [
    {
     "name": "stdout",
     "output_type": "stream",
     "text": [
      "1\n",
      "[2, 3, 43, 5, 6, 7]\n",
      "8\n"
     ]
    }
   ],
   "source": [
    "number=(1,2,3,43,5,6,7,8)\n",
    "first,*middle,last=number\n",
    "print(first)\n",
    "print(middle)\n",
    "print(last)"
   ]
  },
  {
   "cell_type": "code",
   "execution_count": 25,
   "id": "a19e08ac",
   "metadata": {},
   "outputs": [],
   "source": [
    "# nested tuple\n",
    "ns_tuple=(1,2,3,4,(\"ashu\",\"raju\",\"kaju\"),5,6)"
   ]
  },
  {
   "cell_type": "code",
   "execution_count": 28,
   "id": "77f0db6b",
   "metadata": {},
   "outputs": [
    {
     "data": {
      "text/plain": [
       "(1, 2, 3, 4, ('ashu', 'raju', 'kaju'), 5, 6)"
      ]
     },
     "execution_count": 28,
     "metadata": {},
     "output_type": "execute_result"
    }
   ],
   "source": [
    "ns_tuple"
   ]
  },
  {
   "cell_type": "code",
   "execution_count": 30,
   "id": "d08d3f71",
   "metadata": {},
   "outputs": [
    {
     "data": {
      "text/plain": [
       "1"
      ]
     },
     "execution_count": 30,
     "metadata": {},
     "output_type": "execute_result"
    }
   ],
   "source": [
    "ns_tuple[0]"
   ]
  },
  {
   "cell_type": "code",
   "execution_count": 31,
   "id": "4dbd0d43",
   "metadata": {},
   "outputs": [
    {
     "data": {
      "text/plain": [
       "'ashu'"
      ]
     },
     "execution_count": 31,
     "metadata": {},
     "output_type": "execute_result"
    }
   ],
   "source": [
    "ns_tuple[4][0]"
   ]
  },
  {
   "cell_type": "code",
   "execution_count": 32,
   "id": "be1c46c2",
   "metadata": {},
   "outputs": [
    {
     "name": "stdout",
     "output_type": "stream",
     "text": [
      "1\n",
      "2\n",
      "3\n",
      "43\n",
      "5\n",
      "6\n",
      "7\n",
      "8\n"
     ]
    }
   ],
   "source": [
    "for i in number:\n",
    "    print(i)"
   ]
  },
  {
   "cell_type": "code",
   "execution_count": 34,
   "id": "5d0f1cba",
   "metadata": {},
   "outputs": [
    {
     "name": "stdout",
     "output_type": "stream",
     "text": [
      "1\n",
      "2\n",
      "3\n",
      "4\n",
      "('ashu', 'raju', 'kaju')\n",
      "5\n",
      "6\n"
     ]
    }
   ],
   "source": [
    "for i in ns_tuple:\n",
    "    print(i)"
   ]
  },
  {
   "cell_type": "code",
   "execution_count": 38,
   "id": "9d389acf",
   "metadata": {},
   "outputs": [
    {
     "name": "stdout",
     "output_type": "stream",
     "text": [
      "1\n",
      "2\n",
      "3\n",
      "4\n",
      "ashu\n",
      "raju\n",
      "kaju\n",
      "5\n",
      "6\n"
     ]
    }
   ],
   "source": [
    "for i in ns_tuple:\n",
    "    if isinstance(i,tuple):\n",
    "        for j in i:\n",
    "            print(j)\n",
    "    else:\n",
    "        print(i)"
   ]
  },
  {
   "cell_type": "code",
   "execution_count": null,
   "id": "a5df28af",
   "metadata": {},
   "outputs": [],
   "source": []
  }
 ],
 "metadata": {
  "kernelspec": {
   "display_name": "base",
   "language": "python",
   "name": "python3"
  },
  "language_info": {
   "codemirror_mode": {
    "name": "ipython",
    "version": 3
   },
   "file_extension": ".py",
   "mimetype": "text/x-python",
   "name": "python",
   "nbconvert_exporter": "python",
   "pygments_lexer": "ipython3",
   "version": "3.9.13"
  }
 },
 "nbformat": 4,
 "nbformat_minor": 5
}
