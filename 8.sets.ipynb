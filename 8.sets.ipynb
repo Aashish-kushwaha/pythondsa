{
 "cells": [
  {
   "cell_type": "markdown",
   "id": "d838eced",
   "metadata": {},
   "source": [
    "## sets\n",
    "\n",
    "sets are a built-n data type in python used to store collection of unique elements. the are unordered meaning they do not follow any specific order, they do not allow duplicate value elements. useful for \n",
    "* membership test\n",
    "* eliminating duplicate values\n",
    "* and performing operations like union, intersection,diference etc."
   ]
  },
  {
   "cell_type": "code",
   "execution_count": 1,
   "id": "7b48e6ce",
   "metadata": {},
   "outputs": [
    {
     "name": "stdout",
     "output_type": "stream",
     "text": [
      "{1, 2, 3, 4, 5}\n"
     ]
    }
   ],
   "source": [
    "# creating a set\n",
    "my_set={1,2,3,4,5}\n",
    "print(my_set)"
   ]
  },
  {
   "cell_type": "code",
   "execution_count": 2,
   "id": "ec04ad9d",
   "metadata": {},
   "outputs": [
    {
     "name": "stdout",
     "output_type": "stream",
     "text": [
      "<class 'set'>\n"
     ]
    }
   ],
   "source": [
    "print(type(my_set))"
   ]
  },
  {
   "cell_type": "code",
   "execution_count": 4,
   "id": "11594104",
   "metadata": {},
   "outputs": [
    {
     "name": "stdout",
     "output_type": "stream",
     "text": [
      "<class 'set'>\n"
     ]
    }
   ],
   "source": [
    "empty_set=set()\n",
    "print(type(empty_set))"
   ]
  },
  {
   "cell_type": "code",
   "execution_count": 5,
   "id": "505182f0",
   "metadata": {},
   "outputs": [
    {
     "name": "stdout",
     "output_type": "stream",
     "text": [
      "{1, 2, 3, 4, 5, 6}\n"
     ]
    }
   ],
   "source": [
    "st={1,2,3,3,4,5,6,6}\n",
    "print(st)"
   ]
  },
  {
   "cell_type": "code",
   "execution_count": 6,
   "id": "402bbd99",
   "metadata": {},
   "outputs": [],
   "source": [
    "## basic set operations\n"
   ]
  },
  {
   "cell_type": "code",
   "execution_count": 10,
   "id": "72c91057",
   "metadata": {},
   "outputs": [
    {
     "data": {
      "text/plain": [
       "{1, 2, 3, 4, 5, 6, 8}"
      ]
     },
     "execution_count": 10,
     "metadata": {},
     "output_type": "execute_result"
    }
   ],
   "source": [
    "## adding and removing elements\n",
    "st.add(8)\n",
    "st"
   ]
  },
  {
   "cell_type": "code",
   "execution_count": 11,
   "id": "2222dc45",
   "metadata": {},
   "outputs": [
    {
     "data": {
      "text/plain": [
       "{1, 2, 3, 4, 5, 6}"
      ]
     },
     "execution_count": 11,
     "metadata": {},
     "output_type": "execute_result"
    }
   ],
   "source": [
    "st.remove(8)\n",
    "st"
   ]
  },
  {
   "cell_type": "code",
   "execution_count": null,
   "id": "c5a69454",
   "metadata": {},
   "outputs": [
    {
     "name": "stdout",
     "output_type": "stream",
     "text": [
      "1\n"
     ]
    }
   ],
   "source": [
    "removed_ele=st.pop()\n",
    "print(removed_ele)\n"
   ]
  },
  {
   "cell_type": "code",
   "execution_count": 13,
   "id": "d44e336c",
   "metadata": {},
   "outputs": [
    {
     "data": {
      "text/plain": [
       "{2, 3, 4, 5, 6}"
      ]
     },
     "execution_count": 13,
     "metadata": {},
     "output_type": "execute_result"
    }
   ],
   "source": [
    "st"
   ]
  },
  {
   "cell_type": "code",
   "execution_count": 14,
   "id": "cfc61571",
   "metadata": {},
   "outputs": [
    {
     "data": {
      "text/plain": [
       "set()"
      ]
     },
     "execution_count": 14,
     "metadata": {},
     "output_type": "execute_result"
    }
   ],
   "source": [
    "st.clear()\n",
    "st"
   ]
  },
  {
   "cell_type": "code",
   "execution_count": 15,
   "id": "20977203",
   "metadata": {},
   "outputs": [
    {
     "name": "stdout",
     "output_type": "stream",
     "text": [
      "True\n",
      "False\n"
     ]
    }
   ],
   "source": [
    "# set membership test\n",
    "s={1,2,3,4,5}\n",
    "print(3 in s)\n",
    "print(10 in s)"
   ]
  },
  {
   "cell_type": "code",
   "execution_count": 16,
   "id": "449e8891",
   "metadata": {},
   "outputs": [],
   "source": [
    "set1={1,2,3,4}\n",
    "set2={4,5,6,7}"
   ]
  },
  {
   "cell_type": "code",
   "execution_count": 17,
   "id": "13ceb4d6",
   "metadata": {},
   "outputs": [],
   "source": [
    "union_set=set1.union(set2)"
   ]
  },
  {
   "cell_type": "code",
   "execution_count": 18,
   "id": "a8930829",
   "metadata": {},
   "outputs": [
    {
     "data": {
      "text/plain": [
       "{1, 2, 3, 4, 5, 6, 7}"
      ]
     },
     "execution_count": 18,
     "metadata": {},
     "output_type": "execute_result"
    }
   ],
   "source": [
    "union_set"
   ]
  },
  {
   "cell_type": "code",
   "execution_count": 19,
   "id": "699cf876",
   "metadata": {},
   "outputs": [
    {
     "data": {
      "text/plain": [
       "{4}"
      ]
     },
     "execution_count": 19,
     "metadata": {},
     "output_type": "execute_result"
    }
   ],
   "source": [
    "intersection_set=set1.intersection(set2)\n",
    "intersection_set"
   ]
  },
  {
   "cell_type": "code",
   "execution_count": 20,
   "id": "bbd57c08",
   "metadata": {},
   "outputs": [
    {
     "data": {
      "text/plain": [
       "{1, 2, 3}"
      ]
     },
     "execution_count": 20,
     "metadata": {},
     "output_type": "execute_result"
    }
   ],
   "source": [
    "diff_set=set1.difference(set2)\n",
    "diff_set"
   ]
  },
  {
   "cell_type": "code",
   "execution_count": 21,
   "id": "0745ca9b",
   "metadata": {},
   "outputs": [
    {
     "data": {
      "text/plain": [
       "{1, 2, 3, 5, 6, 7}"
      ]
     },
     "execution_count": 21,
     "metadata": {},
     "output_type": "execute_result"
    }
   ],
   "source": [
    "set1.symmetric_difference(set2)"
   ]
  },
  {
   "cell_type": "code",
   "execution_count": 22,
   "id": "499418af",
   "metadata": {},
   "outputs": [],
   "source": [
    "## sets methods"
   ]
  },
  {
   "cell_type": "code",
   "execution_count": 23,
   "id": "f4b0757f",
   "metadata": {},
   "outputs": [
    {
     "name": "stdout",
     "output_type": "stream",
     "text": [
      "False\n"
     ]
    }
   ],
   "source": [
    "set1={1,2,3}\n",
    "set2={3,4,5}\n",
    "\n",
    "print(set1.issubset(set2))"
   ]
  },
  {
   "cell_type": "code",
   "execution_count": 24,
   "id": "647177ac",
   "metadata": {},
   "outputs": [
    {
     "data": {
      "text/plain": [
       "False"
      ]
     },
     "execution_count": 24,
     "metadata": {},
     "output_type": "execute_result"
    }
   ],
   "source": [
    "set1.issuperset(set2)"
   ]
  },
  {
   "cell_type": "code",
   "execution_count": 25,
   "id": "ccc2f395",
   "metadata": {},
   "outputs": [
    {
     "data": {
      "text/plain": [
       "{1, 2, 3, 4, 5, 6, 7, 56}"
      ]
     },
     "execution_count": 25,
     "metadata": {},
     "output_type": "execute_result"
    }
   ],
   "source": [
    "lst=[1,2,3,4,56,7,5,6,7]\n",
    "set(lst)"
   ]
  },
  {
   "cell_type": "code",
   "execution_count": 30,
   "id": "07065a38",
   "metadata": {},
   "outputs": [
    {
     "data": {
      "text/plain": [
       "{'about', 'are', 'course', 'dicussing', 'in', 'sets', 'this', 'we'}"
      ]
     },
     "execution_count": 30,
     "metadata": {},
     "output_type": "execute_result"
    }
   ],
   "source": [
    "#counting unique words in text\n",
    "text=\"in this course we are dicussing about sets\"\n",
    "words=text.split()\n",
    "\n",
    "unique_words=set(words)\n",
    "unique_words"
   ]
  },
  {
   "cell_type": "code",
   "execution_count": 32,
   "id": "32523b6b",
   "metadata": {},
   "outputs": [
    {
     "name": "stdout",
     "output_type": "stream",
     "text": [
      "8\n"
     ]
    }
   ],
   "source": [
    "print(len(unique_words))"
   ]
  },
  {
   "cell_type": "code",
   "execution_count": null,
   "id": "b6b59ed1",
   "metadata": {},
   "outputs": [],
   "source": []
  }
 ],
 "metadata": {
  "kernelspec": {
   "display_name": "base",
   "language": "python",
   "name": "python3"
  },
  "language_info": {
   "codemirror_mode": {
    "name": "ipython",
    "version": 3
   },
   "file_extension": ".py",
   "mimetype": "text/x-python",
   "name": "python",
   "nbconvert_exporter": "python",
   "pygments_lexer": "ipython3",
   "version": "3.9.13"
  }
 },
 "nbformat": 4,
 "nbformat_minor": 5
}
