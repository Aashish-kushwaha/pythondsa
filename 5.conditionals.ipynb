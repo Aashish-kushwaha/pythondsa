{
 "cells": [
  {
   "cell_type": "markdown",
   "id": "828b4cc6",
   "metadata": {},
   "source": [
    "## Conditional statements(if, elif,else)"
   ]
  },
  {
   "cell_type": "code",
   "execution_count": 1,
   "id": "e1b2f2c7",
   "metadata": {},
   "outputs": [
    {
     "name": "stdout",
     "output_type": "stream",
     "text": [
      "alloed to vote\n"
     ]
    }
   ],
   "source": [
    "# if statement\n",
    "age=20;\n",
    "\n",
    "if age>18:\n",
    "    print(\"alloed to vote\")"
   ]
  },
  {
   "cell_type": "code",
   "execution_count": 2,
   "id": "c30a0376",
   "metadata": {},
   "outputs": [
    {
     "name": "stdout",
     "output_type": "stream",
     "text": [
      "not allowed\n"
     ]
    }
   ],
   "source": [
    "#  else: the else statement executes a block of code if the condition in the if statement is false\n",
    "\n",
    "age =16\n",
    "if age>18:\n",
    "    print(\"you can vote\")\n",
    "else:\n",
    "    print(\"not allowed\")"
   ]
  },
  {
   "cell_type": "code",
   "execution_count": 3,
   "id": "c6fcb67b",
   "metadata": {},
   "outputs": [
    {
     "name": "stdout",
     "output_type": "stream",
     "text": [
      "you are a teenager\n"
     ]
    }
   ],
   "source": [
    "# elif: the elif statement allows you to check multiple conditions. it stand for \" else if\"\n",
    "age=17\n",
    "\n",
    "if age<13:\n",
    "    print(\"you are a child\")\n",
    "elif age<18:\n",
    "    print(\"you are a teenager\")\n",
    "else:\n",
    "    print(\"you are an adult\")"
   ]
  },
  {
   "cell_type": "code",
   "execution_count": 4,
   "id": "c404d4e3",
   "metadata": {},
   "outputs": [
    {
     "name": "stdout",
     "output_type": "stream",
     "text": [
      " the number is positive\n",
      "the number is even\n"
     ]
    }
   ],
   "source": [
    "# nested conditional statements\n",
    "\n",
    "num=int(input(\"enter the number\"))\n",
    "\n",
    "if num>0:\n",
    "    print(\" the number is positive\")\n",
    "    if num%2==0:\n",
    "        print(\"the number is even\")\n",
    "    else:\n",
    "        print(\"the number is odd\")\n",
    "else:\n",
    "    print(\"the number is negative\")"
   ]
  },
  {
   "cell_type": "code",
   "execution_count": 6,
   "id": "6ff2c33a",
   "metadata": {},
   "outputs": [
    {
     "name": "stdout",
     "output_type": "stream",
     "text": [
      "leap year\n"
     ]
    }
   ],
   "source": [
    "# leap year\n",
    "\n",
    "year=int(input(\"enter the year\"))\n",
    "\n",
    "if year%4==0:\n",
    "    if year%100==0:\n",
    "        if year%400==0:\n",
    "            print(\"leap year\")\n",
    "        else:\n",
    "            print(\"not a leap year\")\n",
    "    else:\n",
    "        print(\"leap year\")\n",
    "else:\n",
    "    print(\"not a leap year\")"
   ]
  },
  {
   "cell_type": "code",
   "execution_count": 7,
   "id": "3ce9862f",
   "metadata": {},
   "outputs": [
    {
     "name": "stdout",
     "output_type": "stream",
     "text": [
      "30.0\n"
     ]
    }
   ],
   "source": [
    "num1=float(input(\"enter first number\"))\n",
    "num2=float(input(\"enter second number\"))\n",
    "operation=input(\"enter operation(+,-,*,/)\")\n",
    "\n",
    "if operation=='+':\n",
    "    result=num1+num2\n",
    "elif operation=='-':\n",
    "    result=num1-num2\n",
    "elif operation=='*':\n",
    "    result=num1*num2\n",
    "elif operation=='/':\n",
    "    result=num1/num2\n",
    "else:\n",
    "    result=\"invalid opearation\"\n",
    "\n",
    "print(result)"
   ]
  },
  {
   "cell_type": "code",
   "execution_count": 9,
   "id": "2e22882a",
   "metadata": {},
   "outputs": [
    {
     "name": "stdout",
     "output_type": "stream",
     "text": [
      "price of ticket: 12$\n"
     ]
    }
   ],
   "source": [
    "### Determine the ticket price based on age and whether the person is a student.\n",
    "# Ticket pricing based on age and student status\n",
    "\n",
    "age=int(input(\"enter you age:\"))\n",
    "is_student=input(\"are you student?( yes/no):\").lower()\n",
    "\n",
    "if age<5:\n",
    "    price=\"Free\"\n",
    "elif age<=12:\n",
    "    price=\"10$\"\n",
    "elif age<=17:\n",
    "    if is_student=='yes':\n",
    "        price=\"12$\"\n",
    "    else:\n",
    "        price=\"14$\"\n",
    "elif age<=64:\n",
    "    if is_student=='yes':\n",
    "        price=\"18$\"\n",
    "    else:\n",
    "        price=\"25$\"\n",
    "else:\n",
    "    price=\"$20\"\n",
    "\n",
    "\n",
    "print(\"price of ticket:\",price)\n",
    "        "
   ]
  },
  {
   "cell_type": "code",
   "execution_count": null,
   "id": "47948a3f",
   "metadata": {},
   "outputs": [],
   "source": []
  }
 ],
 "metadata": {
  "kernelspec": {
   "display_name": "base",
   "language": "python",
   "name": "python3"
  },
  "language_info": {
   "codemirror_mode": {
    "name": "ipython",
    "version": 3
   },
   "file_extension": ".py",
   "mimetype": "text/x-python",
   "name": "python",
   "nbconvert_exporter": "python",
   "pygments_lexer": "ipython3",
   "version": "3.9.13"
  }
 },
 "nbformat": 4,
 "nbformat_minor": 5
}
