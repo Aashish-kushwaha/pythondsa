{
 "cells": [
  {
   "cell_type": "markdown",
   "id": "d6ed310b",
   "metadata": {},
   "source": [
    "## Dictionaries\n",
    "\n",
    "dictionaries are unordered collections of items. they store data in key-value pairs. keys must be unique and immutable (e.g., strings, numbers or tuples) while values can be of any type. dictionary is mutable.\n"
   ]
  },
  {
   "cell_type": "code",
   "execution_count": 5,
   "id": "3b7b5baf",
   "metadata": {},
   "outputs": [
    {
     "name": "stdout",
     "output_type": "stream",
     "text": [
      "<class 'dict'>\n",
      "<class 'dict'>\n"
     ]
    }
   ],
   "source": [
    "# creating empty dictionary\n",
    "del dict\n",
    "dictt={}\n",
    "print(type(dictt))\n",
    "\n",
    "dict2=dict()\n",
    "print(type(dict2))"
   ]
  },
  {
   "cell_type": "code",
   "execution_count": 6,
   "id": "14c90a25",
   "metadata": {},
   "outputs": [
    {
     "name": "stdout",
     "output_type": "stream",
     "text": [
      "{'name': 'aashish', 'age': 23, 'grade': 12}\n"
     ]
    }
   ],
   "source": [
    "student={\"name\":\"aashish\",\"age\":23,\"grade\":12}\n",
    "print(student)"
   ]
  },
  {
   "cell_type": "code",
   "execution_count": 7,
   "id": "a1c3ee2b",
   "metadata": {},
   "outputs": [
    {
     "data": {
      "text/plain": [
       "{'name': 34}"
      ]
     },
     "execution_count": 7,
     "metadata": {},
     "output_type": "execute_result"
    }
   ],
   "source": [
    "student1={\"name\":\"djf\",\"name\":34}\n",
    "student1"
   ]
  },
  {
   "cell_type": "code",
   "execution_count": 8,
   "id": "2d41284f",
   "metadata": {},
   "outputs": [
    {
     "data": {
      "text/plain": [
       "12"
      ]
     },
     "execution_count": 8,
     "metadata": {},
     "output_type": "execute_result"
    }
   ],
   "source": [
    "# accessing dictionay elements\n",
    "student['grade']"
   ]
  },
  {
   "cell_type": "code",
   "execution_count": 9,
   "id": "f2ff3e34",
   "metadata": {},
   "outputs": [
    {
     "data": {
      "text/plain": [
       "23"
      ]
     },
     "execution_count": 9,
     "metadata": {},
     "output_type": "execute_result"
    }
   ],
   "source": [
    "student['age']"
   ]
  },
  {
   "cell_type": "code",
   "execution_count": 10,
   "id": "b9816850",
   "metadata": {},
   "outputs": [
    {
     "data": {
      "text/plain": [
       "12"
      ]
     },
     "execution_count": 10,
     "metadata": {},
     "output_type": "execute_result"
    }
   ],
   "source": [
    "student.get('grade')"
   ]
  },
  {
   "cell_type": "code",
   "execution_count": 12,
   "id": "66db6713",
   "metadata": {},
   "outputs": [
    {
     "data": {
      "text/plain": [
       "'aashish'"
      ]
     },
     "execution_count": 12,
     "metadata": {},
     "output_type": "execute_result"
    }
   ],
   "source": [
    "student.get('name')"
   ]
  },
  {
   "cell_type": "code",
   "execution_count": 13,
   "id": "175f9a0d",
   "metadata": {},
   "outputs": [
    {
     "data": {
      "text/plain": [
       "'not available'"
      ]
     },
     "execution_count": 13,
     "metadata": {},
     "output_type": "execute_result"
    }
   ],
   "source": [
    "student.get(\"last_name\",\"not available\")"
   ]
  },
  {
   "cell_type": "code",
   "execution_count": null,
   "id": "0e249931",
   "metadata": {},
   "outputs": [
    {
     "data": {
      "text/plain": [
       "{'name': 'aashish', 'age': 33, 'grade': 12}"
      ]
     },
     "execution_count": 14,
     "metadata": {},
     "output_type": "execute_result"
    }
   ],
   "source": [
    "# updeted a value\n",
    "student[\"age\"]=33\n",
    "student"
   ]
  },
  {
   "cell_type": "code",
   "execution_count": 16,
   "id": "7186724c",
   "metadata": {},
   "outputs": [
    {
     "data": {
      "text/plain": [
       "{'name': 'aashish', 'age': 33, 'grade': 12, 'address': 'india'}"
      ]
     },
     "execution_count": 16,
     "metadata": {},
     "output_type": "execute_result"
    }
   ],
   "source": [
    "# added  a new key\n",
    "student[\"address\"]=\"india\"\n",
    "student"
   ]
  },
  {
   "cell_type": "code",
   "execution_count": 17,
   "id": "ebc37534",
   "metadata": {},
   "outputs": [],
   "source": [
    "# delete the key\n",
    "del student[\"grade\"]"
   ]
  },
  {
   "cell_type": "code",
   "execution_count": 18,
   "id": "87e5c29d",
   "metadata": {},
   "outputs": [
    {
     "data": {
      "text/plain": [
       "{'name': 'aashish', 'age': 33, 'address': 'india'}"
      ]
     },
     "execution_count": 18,
     "metadata": {},
     "output_type": "execute_result"
    }
   ],
   "source": [
    "student"
   ]
  },
  {
   "cell_type": "code",
   "execution_count": 23,
   "id": "eec9c173",
   "metadata": {},
   "outputs": [
    {
     "name": "stdout",
     "output_type": "stream",
     "text": [
      "dict_keys(['name', 'age', 'address'])\n"
     ]
    },
    {
     "data": {
      "text/plain": [
       "dict_keys"
      ]
     },
     "execution_count": 23,
     "metadata": {},
     "output_type": "execute_result"
    }
   ],
   "source": [
    "# dictionary methods\n",
    "# get all the keys\n",
    "keyss=student.keys()\n",
    "print(keyss)\n",
    "type(keyss)"
   ]
  },
  {
   "cell_type": "code",
   "execution_count": 24,
   "id": "52d63865",
   "metadata": {},
   "outputs": [
    {
     "name": "stdout",
     "output_type": "stream",
     "text": [
      "dict_values(['aashish', 33, 'india'])\n"
     ]
    },
    {
     "data": {
      "text/plain": [
       "dict_values"
      ]
     },
     "execution_count": 24,
     "metadata": {},
     "output_type": "execute_result"
    }
   ],
   "source": [
    "# get all the value\n",
    "values=student.values()\n",
    "print(values)\n",
    "type(values)"
   ]
  },
  {
   "cell_type": "code",
   "execution_count": 25,
   "id": "1c026313",
   "metadata": {},
   "outputs": [
    {
     "name": "stdout",
     "output_type": "stream",
     "text": [
      "dict_items([('name', 'aashish'), ('age', 33), ('address', 'india')])\n"
     ]
    },
    {
     "data": {
      "text/plain": [
       "dict_items"
      ]
     },
     "execution_count": 25,
     "metadata": {},
     "output_type": "execute_result"
    }
   ],
   "source": [
    "itemss=student.items()\n",
    "print(itemss)\n",
    "type(itemss)"
   ]
  },
  {
   "cell_type": "code",
   "execution_count": 26,
   "id": "6eb31d4a",
   "metadata": {},
   "outputs": [
    {
     "name": "stdout",
     "output_type": "stream",
     "text": [
      "{'name': 'aashish', 'age': 33, 'address': 'india'}\n",
      "{'name': 'aashish', 'age': 33, 'address': 'india'}\n"
     ]
    }
   ],
   "source": [
    "# shallow copy\n",
    "student_copy=student\n",
    "print(student_copy)\n",
    "print(student)"
   ]
  },
  {
   "cell_type": "code",
   "execution_count": 36,
   "id": "43f5ad3d",
   "metadata": {},
   "outputs": [
    {
     "name": "stdout",
     "output_type": "stream",
     "text": [
      "{'name': 'krish', 'age': 33, 'address': 'india'}\n",
      "{'name': 'krish', 'age': 33, 'address': 'india'}\n"
     ]
    }
   ],
   "source": [
    "student_copy[\"name\"]=\"krish\"\n",
    "print(student)\n",
    "print(student_copy)"
   ]
  },
  {
   "cell_type": "code",
   "execution_count": 37,
   "id": "9d9d6ff8",
   "metadata": {},
   "outputs": [],
   "source": [
    "student_copy1=student.copy() # shallow copy"
   ]
  },
  {
   "cell_type": "code",
   "execution_count": 38,
   "id": "3bcf7689",
   "metadata": {},
   "outputs": [
    {
     "name": "stdout",
     "output_type": "stream",
     "text": [
      "{'name': 'krish', 'age': 33, 'address': 'india'}\n",
      "{'name': 'krish', 'age': 33, 'address': 'india'}\n"
     ]
    }
   ],
   "source": [
    "print(student)\n",
    "print(student_copy1)"
   ]
  },
  {
   "cell_type": "code",
   "execution_count": 39,
   "id": "e4f29971",
   "metadata": {},
   "outputs": [
    {
     "name": "stdout",
     "output_type": "stream",
     "text": [
      "{'name': 'aashish', 'age': 33, 'address': 'india'}\n",
      "{'name': 'krish', 'age': 33, 'address': 'india'}\n"
     ]
    }
   ],
   "source": [
    "student[\"name\"]='aashish'\n",
    "print(student)\n",
    "print(student_copy1)"
   ]
  },
  {
   "cell_type": "code",
   "execution_count": 41,
   "id": "3407dcd9",
   "metadata": {},
   "outputs": [
    {
     "name": "stdout",
     "output_type": "stream",
     "text": [
      "name\n",
      "age\n",
      "address\n"
     ]
    }
   ],
   "source": [
    "# iterating over dictionary\n",
    "# using loops\n",
    "\n",
    "# over keys\n",
    "for k in student.keys():\n",
    "    print(k)"
   ]
  },
  {
   "cell_type": "code",
   "execution_count": 42,
   "id": "35ac4feb",
   "metadata": {},
   "outputs": [
    {
     "name": "stdout",
     "output_type": "stream",
     "text": [
      "aashish\n",
      "33\n",
      "india\n"
     ]
    }
   ],
   "source": [
    "# over values\n",
    "for v in student.values():\n",
    "    print(v)"
   ]
  },
  {
   "cell_type": "code",
   "execution_count": 44,
   "id": "d798de88",
   "metadata": {},
   "outputs": [
    {
     "name": "stdout",
     "output_type": "stream",
     "text": [
      "('name', 'aashish')\n",
      "('age', 33)\n",
      "('address', 'india')\n"
     ]
    }
   ],
   "source": [
    "# over items\n",
    "for i in student.items():\n",
    "    print(i)"
   ]
  },
  {
   "cell_type": "code",
   "execution_count": 48,
   "id": "3ecae604",
   "metadata": {},
   "outputs": [
    {
     "name": "stdout",
     "output_type": "stream",
     "text": [
      "name : aashish\n",
      "age : 33\n",
      "address : india\n"
     ]
    }
   ],
   "source": [
    "for k,v in student.items():\n",
    "    print(k,\":\",v)"
   ]
  },
  {
   "cell_type": "code",
   "execution_count": 49,
   "id": "b8bfb954",
   "metadata": {},
   "outputs": [
    {
     "name": "stdout",
     "output_type": "stream",
     "text": [
      "name:aashish\n",
      "age:33\n",
      "address:india\n"
     ]
    }
   ],
   "source": [
    "for i,j in student.items():\n",
    "    print(f\"{i}:{j}\")"
   ]
  },
  {
   "cell_type": "code",
   "execution_count": 50,
   "id": "2ab1d0b6",
   "metadata": {},
   "outputs": [],
   "source": [
    "# nested Dictionary\n",
    "st={\n",
    "    \"student1\":{\n",
    "        \"name\":\"student1\",\n",
    "        \"age\":12\n",
    "    },\n",
    "    \"student2\":{\n",
    "        \"name\":\"student2\",\n",
    "        \"age\":13\n",
    "    }\n",
    "}"
   ]
  },
  {
   "cell_type": "code",
   "execution_count": 51,
   "id": "60de41b4",
   "metadata": {},
   "outputs": [
    {
     "data": {
      "text/plain": [
       "{'student1': {'name': 'student1', 'age': 12},\n",
       " 'student2': {'name': 'student2', 'age': 13}}"
      ]
     },
     "execution_count": 51,
     "metadata": {},
     "output_type": "execute_result"
    }
   ],
   "source": [
    "st"
   ]
  },
  {
   "cell_type": "code",
   "execution_count": 52,
   "id": "26ce45e2",
   "metadata": {},
   "outputs": [
    {
     "name": "stdout",
     "output_type": "stream",
     "text": [
      "student1\n"
     ]
    }
   ],
   "source": [
    "print(st[\"student1\"][\"name\"])"
   ]
  },
  {
   "cell_type": "code",
   "execution_count": 53,
   "id": "313532f8",
   "metadata": {},
   "outputs": [
    {
     "data": {
      "text/plain": [
       "dict_keys(['student1', 'student2'])"
      ]
     },
     "execution_count": 53,
     "metadata": {},
     "output_type": "execute_result"
    }
   ],
   "source": [
    "st.keys()"
   ]
  },
  {
   "cell_type": "code",
   "execution_count": 55,
   "id": "f80d4e1d",
   "metadata": {},
   "outputs": [
    {
     "data": {
      "text/plain": [
       "dict_values([{'name': 'student1', 'age': 12}, {'name': 'student2', 'age': 13}])"
      ]
     },
     "execution_count": 55,
     "metadata": {},
     "output_type": "execute_result"
    }
   ],
   "source": [
    "st.values()"
   ]
  },
  {
   "cell_type": "code",
   "execution_count": 58,
   "id": "186698f4",
   "metadata": {},
   "outputs": [
    {
     "name": "stdout",
     "output_type": "stream",
     "text": [
      "dict_keys(['name', 'age'])\n"
     ]
    },
    {
     "data": {
      "text/plain": [
       "dict_values(['student1', 12])"
      ]
     },
     "execution_count": 58,
     "metadata": {},
     "output_type": "execute_result"
    }
   ],
   "source": [
    "print(st[\"student1\"].keys())\n",
    "st[\"student1\"].values()"
   ]
  },
  {
   "cell_type": "code",
   "execution_count": 60,
   "id": "32e32dbc",
   "metadata": {},
   "outputs": [
    {
     "name": "stdout",
     "output_type": "stream",
     "text": [
      "dict_items([('student1', {'name': 'student1', 'age': 12}), ('student2', {'name': 'student2', 'age': 13})])\n"
     ]
    }
   ],
   "source": [
    "print(st.items())"
   ]
  },
  {
   "cell_type": "code",
   "execution_count": 61,
   "id": "45f2e043",
   "metadata": {},
   "outputs": [
    {
     "name": "stdout",
     "output_type": "stream",
     "text": [
      "dict_items([('name', 'student1'), ('age', 12)])\n"
     ]
    }
   ],
   "source": [
    "print(st[\"student1\"].items())"
   ]
  },
  {
   "cell_type": "code",
   "execution_count": 63,
   "id": "d5a6aff2",
   "metadata": {},
   "outputs": [
    {
     "name": "stdout",
     "output_type": "stream",
     "text": [
      "student1\n",
      "student2\n"
     ]
    }
   ],
   "source": [
    "for i in st.keys():\n",
    "    print(i)"
   ]
  },
  {
   "cell_type": "code",
   "execution_count": 64,
   "id": "b5d47400",
   "metadata": {},
   "outputs": [
    {
     "name": "stdout",
     "output_type": "stream",
     "text": [
      "{'name': 'student1', 'age': 12}\n",
      "{'name': 'student2', 'age': 13}\n"
     ]
    }
   ],
   "source": [
    "for j in st.values():\n",
    "    print(j)"
   ]
  },
  {
   "cell_type": "code",
   "execution_count": 65,
   "id": "6b33860d",
   "metadata": {},
   "outputs": [
    {
     "name": "stdout",
     "output_type": "stream",
     "text": [
      "name\n",
      "age\n"
     ]
    }
   ],
   "source": [
    "for i in st[\"student1\"].keys():\n",
    "    print(i)"
   ]
  },
  {
   "cell_type": "code",
   "execution_count": 66,
   "id": "52d83964",
   "metadata": {},
   "outputs": [
    {
     "name": "stdout",
     "output_type": "stream",
     "text": [
      "student1\n",
      "12\n"
     ]
    }
   ],
   "source": [
    "for j in st[\"student1\"].values():\n",
    "    print(j)"
   ]
  },
  {
   "cell_type": "code",
   "execution_count": 71,
   "id": "e1c75bc5",
   "metadata": {},
   "outputs": [
    {
     "name": "stdout",
     "output_type": "stream",
     "text": [
      "student1:{'name': 'student1', 'age': 12}\n",
      "name:student1\n",
      "age:12\n",
      "student2:{'name': 'student2', 'age': 13}\n",
      "name:student2\n",
      "age:13\n"
     ]
    }
   ],
   "source": [
    "for key, value in st.items():\n",
    "    print(f\"{key}:{value}\")\n",
    "    for k, v in value.items():\n",
    "        print(f\"{k}:{v}\")"
   ]
  },
  {
   "cell_type": "code",
   "execution_count": 75,
   "id": "9211a861",
   "metadata": {},
   "outputs": [],
   "source": [
    "# dictionary comprehensiopn\n",
    "\n",
    "squares={ x:x**2 for x in range(5)}"
   ]
  },
  {
   "cell_type": "code",
   "execution_count": 76,
   "id": "82a04de9",
   "metadata": {},
   "outputs": [
    {
     "data": {
      "text/plain": [
       "{0: 0, 1: 1, 2: 4, 3: 9, 4: 16}"
      ]
     },
     "execution_count": 76,
     "metadata": {},
     "output_type": "execute_result"
    }
   ],
   "source": [
    "squares"
   ]
  },
  {
   "cell_type": "code",
   "execution_count": 77,
   "id": "1bb9b7e9",
   "metadata": {},
   "outputs": [],
   "source": [
    "even={x:x**2 for x in range(5) if x%2==0}"
   ]
  },
  {
   "cell_type": "code",
   "execution_count": 78,
   "id": "2266c98d",
   "metadata": {},
   "outputs": [
    {
     "data": {
      "text/plain": [
       "{0: 0, 2: 4, 4: 16}"
      ]
     },
     "execution_count": 78,
     "metadata": {},
     "output_type": "execute_result"
    }
   ],
   "source": [
    "even"
   ]
  },
  {
   "cell_type": "code",
   "execution_count": 82,
   "id": "c4376e2c",
   "metadata": {},
   "outputs": [
    {
     "name": "stdout",
     "output_type": "stream",
     "text": [
      "{1: 2, 2: 2, 3: 3, 41: 1, 4: 3}\n"
     ]
    }
   ],
   "source": [
    "# example\n",
    "numers=[1,2,3,41,1,3,2,3,4,4,4]\n",
    "\n",
    "freq={}\n",
    "\n",
    "for n in numers:\n",
    "    if n in freq:\n",
    "        freq[n]+=1\n",
    "    else:\n",
    "        freq[n]=1\n",
    "print(freq)"
   ]
  },
  {
   "cell_type": "code",
   "execution_count": 84,
   "id": "c8746a72",
   "metadata": {},
   "outputs": [],
   "source": [
    "#  merge 2 dictionary\n",
    "dict1={\"sdjhd\":\"dfjf\",\"1\":2}\n",
    "dcict2={\"dxd\":\"DDF\"}"
   ]
  },
  {
   "cell_type": "code",
   "execution_count": 85,
   "id": "3bcb0524",
   "metadata": {},
   "outputs": [
    {
     "name": "stdout",
     "output_type": "stream",
     "text": [
      "{'sdjhd': 'dfjf', '1': 2}\n"
     ]
    }
   ],
   "source": [
    "merge={**dict1,**dict2}\n",
    "print(merge)"
   ]
  },
  {
   "cell_type": "code",
   "execution_count": null,
   "id": "83a4979d",
   "metadata": {},
   "outputs": [],
   "source": []
  }
 ],
 "metadata": {
  "kernelspec": {
   "display_name": "base",
   "language": "python",
   "name": "python3"
  },
  "language_info": {
   "codemirror_mode": {
    "name": "ipython",
    "version": 3
   },
   "file_extension": ".py",
   "mimetype": "text/x-python",
   "name": "python",
   "nbconvert_exporter": "python",
   "pygments_lexer": "ipython3",
   "version": "3.9.13"
  }
 },
 "nbformat": 4,
 "nbformat_minor": 5
}
